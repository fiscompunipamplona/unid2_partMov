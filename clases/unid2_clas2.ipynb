{
 "cells": [
  {
   "cell_type": "markdown",
   "metadata": {},
   "source": [
    "## <center> Unidad 2 <center>\n",
    "   \n",
    "   ### <center> Mauricio Suárez Durán<br> Clase 5 <br><br><br> Arrastre <center>\n",
    "    \n",
    "   #### <center> Departamento de Física y Geología <br> Universidad de Pamplona <br> I Semestre, 2019 <center>\n",
    "   \n",
    "   <center>\n",
    "   <img src=\"../pictures/escudounipamplona.png\" alt=\"drawing\" width=\"100\"/>\n",
    "   <center>"
   ]
  },
  {
   "cell_type": "markdown",
   "metadata": {},
   "source": [
    "### Usando la cuarta ley de Newton\n",
    "\\begin{equation}\n",
    "    F = \\frac{GMm}{(R+y)^2}\n",
    "\\end{equation}\n",
    "\n",
    "Escriba un código que estime la velocidad con la que impacta en tierra ($h=0$) una partícula de masa $m$, la cual cae libremente desde una altura $h$. Determine el valor de $h$ en el momento en que la velocidad difiere por un uno porciento de su valor. Tomo el radio de la Tierra como $R=6.37\\times10^6\\,\\mathrm{m}$ y $G=6.67\\times10^{-11}\\,\\mathrm{m}^3\\,\\mathrm{kg}^{-1}\\,\\mathrm{s}^{-2}$. Asegurese que el uno porciento es la cantidad física y no la precisión del algorítmo."
   ]
  },
  {
   "cell_type": "markdown",
   "metadata": {},
   "source": [
    "### Caída de un filtro de café\n",
    "\n",
    "- El archivo falling.txt tiene los datos de la caída de un filtro de café, esto es la posición como función del tiempo. Use estos datos para determinar la velocidad $v(t)$ usando la aproximación de diferencia central:\n",
    "<br><br>\n",
    "\\begin{equation}\n",
    "    v(t) \\approx \\frac{y(t+\\Delta t) - y(t-\\Delta t)}{2\\Delta t}\n",
    "\\end{equation}\n",
    "<br><br>\n",
    "- Calcule la aceleración usando la expresión\n",
    "<br><br>\n",
    "\\begin{equation}\n",
    "    a(t) \\approx \\frac{y(t+\\Delta t) - 2y(t) + y(t-\\Delta t)}{(\\Delta t)^2}\n",
    "\\end{equation}\n",
    "<br><br>\n",
    "- Determine la velocidad terminal a partir de los datos. A partir de las aproximaciones para $a(t)$ y $v(t)$, haga la gráfica de $a$ como función de $v$ y determine la dependencia de estas variables.\n",
    "<br><br>\n",
    "- Escoja uno de los algorítmos de Euler y resuelva para la velocidad de arrastre cuadratica.\n",
    "- Seleccione la velocidad de arrastre como un paremétro de entrada. Asegure que el resultado de la altura no depende de la presición de $\\Delta t$. Compare los resultados que obtiene de $y(t)$, para diferentes velocidades terminales, con los datos.\n",
    "- Repita lo pasos anteriores asumiendo un arrastre tipo lineal. Cuál son las diferencias con los dos tipos de arrastre para una misma velocidad terminal?\n",
    "- Qué puede concluir sobre la dependencia de la velocidad con la resistencia de arrastre para el filtro de café?"
   ]
  },
  {
   "cell_type": "code",
   "execution_count": null,
   "metadata": {},
   "outputs": [],
   "source": []
  }
 ],
 "metadata": {
  "celltoolbar": "Edit Metadata",
  "kernelspec": {
   "display_name": "Python 3",
   "language": "python",
   "name": "python3"
  },
  "language_info": {
   "codemirror_mode": {
    "name": "ipython",
    "version": 3
   },
   "file_extension": ".py",
   "mimetype": "text/x-python",
   "name": "python",
   "nbconvert_exporter": "python",
   "pygments_lexer": "ipython3",
   "version": "3.5.2"
  }
 },
 "nbformat": 4,
 "nbformat_minor": 2
}
