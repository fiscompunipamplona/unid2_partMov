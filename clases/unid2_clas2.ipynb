{
 "cells": [
  {
   "cell_type": "markdown",
   "metadata": {},
   "source": [
    "## <center> Unidad 2 <center>\n",
    "   \n",
    "   ### <center> Mauricio Suárez Durán<br> Clase 5 <br><br><br> Arrastre <center>\n",
    "    \n",
    "   #### <center> Departamento de Física y Geología <br> Universidad de Pamplona <br> I Semestre, 2019 <center>\n",
    "   \n",
    "   <center>\n",
    "   <img src=\"../pictures/escudounipamplona.png\" alt=\"drawing\" width=\"100\"/>\n",
    "   <center>"
   ]
  },
  {
   "cell_type": "markdown",
   "metadata": {},
   "source": [
    "### Usando la cuarta ley de Newton\n",
    "\\begin{equation}\n",
    "    F = \\frac{GMm}{(R+y)^2}\n",
    "\\end{equation}\n",
    "\n",
    "Escriba un código que estime la velocidad con la que impacta en tierra ($h=0$) una partícula de masa $m$, la cual cae libremente desde una altura $h$. Determine el valor de $h$ en el momento en que la velocidad difiere por un uno porciento de su valor. Tomo el radio de la Tierra como $R=6.37\\times10^6\\,\\mathrm{m}$ y $G=6.67\\times10^{-11}\\,\\mathrm{m}^3\\,\\mathrm{kg}^{-1}\\,\\mathrm{s}^{-2}$. Asegurese que el uno porciento es la cantidad física y no la precisión del algorítmo."
   ]
  }
 ],
 "metadata": {
  "celltoolbar": "Tags",
  "kernelspec": {
   "display_name": "Python 3",
   "language": "python",
   "name": "python3"
  },
  "language_info": {
   "codemirror_mode": {
    "name": "ipython",
    "version": 3
   },
   "file_extension": ".py",
   "mimetype": "text/x-python",
   "name": "python",
   "nbconvert_exporter": "python",
   "pygments_lexer": "ipython3",
   "version": "3.5.2"
  }
 },
 "nbformat": 4,
 "nbformat_minor": 2
}
